{
 "cells": [
  {
   "cell_type": "code",
   "execution_count": 2,
   "metadata": {},
   "outputs": [
    {
     "name": "stderr",
     "output_type": "stream",
     "text": [
      "/Users/danielnickas/anaconda3/lib/python3.11/site-packages/pandas/core/arrays/masked.py:60: UserWarning: Pandas requires version '1.3.6' or newer of 'bottleneck' (version '1.3.5' currently installed).\n",
      "  from pandas.core import (\n"
     ]
    }
   ],
   "source": [
    "# Import libraries\n",
    "import pandas as pd\n",
    "import sqlite3 \n",
    "import matplotlib.pyplot as plt\n",
    "import matplotlib\n",
    "matplotlib.use('Agg')\n",
    "import seaborn as sns\n",
    "from matplotlib.ticker import MultipleLocator\n",
    "import os"
   ]
  },
  {
   "cell_type": "code",
   "execution_count": 3,
   "metadata": {},
   "outputs": [
    {
     "name": "stdout",
     "output_type": "stream",
     "text": [
      "Database connection established and foreign keys enabled.\n"
     ]
    }
   ],
   "source": [
    "\n",
    "# Connect to the SQLite database\n",
    "conn = sqlite3.connect(\"employment.db\")\n",
    "cursor = conn.cursor()\n",
    "cursor.execute(\"PRAGMA foreign_keys = ON;\")\n",
    "print(\"Database connection established and foreign keys enabled.\")"
   ]
  },
  {
   "cell_type": "code",
   "execution_count": 5,
   "metadata": {},
   "outputs": [
    {
     "data": {
      "text/plain": [
       "265"
      ]
     },
     "execution_count": 5,
     "metadata": {},
     "output_type": "execute_result"
    }
   ],
   "source": [
    "# Load countries metadata\n",
    "countries = pd.read_csv(\"/Users/danielnickas/Downloads/qtm350_finalproj/data/Metadata_Country_API_NY.GDP.MKTP.KD.ZG_DS2_en_csv_v2_19358.csv\")\n",
    "countries.to_sql(\"countries\", conn, if_exists=\"replace\", index=False)"
   ]
  },
  {
   "cell_type": "code",
   "execution_count": 67,
   "metadata": {},
   "outputs": [],
   "source": [
    "# Clean employment data by joining with country metadata\n",
    "years = [str(year) for year in range(1960, 2025)]\n",
    "year_columns = \", \".join([f\"`{year}`\" for year in years])"
   ]
  },
  {
   "cell_type": "code",
   "execution_count": 68,
   "metadata": {},
   "outputs": [],
   "source": [
    "\n",
    "\n",
    "\n",
    "query1 = f\"\"\"\n",
    "DROP TABLE IF EXISTS employment_clean;\n",
    "CREATE TABLE employment_clean AS\n",
    "SELECT \n",
    "    employment.`Country Name` AS country_name,\n",
    "    employment.`Country Code` AS country_code,\n",
    "    {year_columns},\n",
    "    countries.Region AS region,\n",
    "    countries.IncomeGroup AS income_group\n",
    "FROM employment\n",
    "LEFT JOIN countries\n",
    "ON employment.`Country Code` = countries.`Country Code`\n",
    "WHERE countries.Region IS NOT NULL;\n",
    "\"\"\"\n",
    "conn.executescript(query1)\n",
    "conn.commit()"
   ]
  },
  {
   "cell_type": "code",
   "execution_count": 69,
   "metadata": {},
   "outputs": [
    {
     "name": "stdout",
     "output_type": "stream",
     "text": [
      "Table employment_long created successfully.\n"
     ]
    }
   ],
   "source": [
    "\n",
    "# Pivot to long format\n",
    "union_queries = []\n",
    "\n",
    "for year in years:\n",
    "    union_queries.append(f\"\"\"\n",
    "    SELECT \n",
    "        country_name,\n",
    "        country_code,\n",
    "        region,\n",
    "        income_group,\n",
    "        '{year}' AS year,\n",
    "        `{year}` AS employment_to_pop\n",
    "    FROM employment_clean\n",
    "    WHERE `{year}` IS NOT NULL\n",
    "    \"\"\")\n",
    "\n",
    "query2 = \" UNION ALL \".join(union_queries)\n",
    "\n",
    "\n",
    "create_table_query = f\"\"\"\n",
    "DROP TABLE IF EXISTS employment_long;\n",
    "CREATE TABLE employment_long AS\n",
    "{query2}\n",
    "\"\"\"\n",
    "conn.executescript(create_table_query)\n",
    "conn.commit()\n",
    "\n",
    "print(\"Table employment_long created successfully.\")"
   ]
  },
  {
   "cell_type": "code",
   "execution_count": 6,
   "metadata": {},
   "outputs": [],
   "source": [
    "# Calculate World Average Employment-to-Population Ratio\n",
    "query3 = '''\n",
    "-- Calculate the world average employment ratio for each year\n",
    "WITH world_avg AS (\n",
    "    SELECT \n",
    "        year,\n",
    "        AVG(employment_to_pop) AS world_avg_employment\n",
    "    FROM employment_long\n",
    "    WHERE region IS NOT NULL\n",
    "    GROUP BY year\n",
    ")\n",
    "-- Insert world average into employment_long\n",
    "INSERT INTO employment_long (country_name, country_code, region, income_group, year, employment_to_pop)\n",
    "SELECT \n",
    "    'World' AS country_name,\n",
    "    NULL AS country_code,\n",
    "    'World' AS region,\n",
    "    'World' AS income_group,\n",
    "    world_avg.year,\n",
    "    world_avg.world_avg_employment\n",
    "FROM world_avg;\n",
    "'''\n",
    "conn.executescript(query3)\n",
    "conn.commit()"
   ]
  },
  {
   "cell_type": "code",
   "execution_count": 71,
   "metadata": {},
   "outputs": [],
   "source": [
    "# Create summary table by decade\n",
    "query4 = '''\n",
    "SELECT\n",
    "    ((CAST(year AS INTEGER) / 10) * 10) || 's' AS decade,\n",
    "    COUNT(employment_to_pop) AS count_obs,\n",
    "    MIN(employment_to_pop) AS min_ratio,\n",
    "    AVG(employment_to_pop) AS avg_ratio_decade,\n",
    "    MAX(employment_to_pop) AS max_ratio\n",
    "FROM\n",
    "    employment_long\n",
    "WHERE\n",
    "    region != 'World'\n",
    "GROUP BY\n",
    "    decade\n",
    "ORDER BY\n",
    "    decade;\n",
    "'''\n",
    "decade_summary = pd.read_sql_query(query4, conn)\n"
   ]
  },
  {
   "cell_type": "code",
   "execution_count": 72,
   "metadata": {},
   "outputs": [],
   "source": [
    "# Create summary table by region\n",
    "query5 = '''\n",
    "SELECT\n",
    "    region,\n",
    "    COUNT(DISTINCT country_name) AS n_countries,\n",
    "    COUNT(employment_to_pop) AS n_obs,\n",
    "    AVG(employment_to_pop) AS avg_ratio,\n",
    "    MIN(employment_to_pop) AS min_ratio,\n",
    "    MAX(employment_to_pop) AS max_ratio\n",
    "FROM\n",
    "    employment_long\n",
    "GROUP BY\n",
    "    region\n",
    "ORDER BY\n",
    "    region;\n",
    "'''\n",
    "region_summary = pd.read_sql_query(query5, conn)"
   ]
  },
  {
   "cell_type": "code",
   "execution_count": 73,
   "metadata": {},
   "outputs": [],
   "source": [
    "# Create summary table by income group\n",
    "query6 = '''\n",
    "SELECT\n",
    "    income_group,\n",
    "    COUNT(DISTINCT country_name) AS n_countries,\n",
    "    COUNT(employment_to_pop) AS n_obs,\n",
    "    MIN(employment_to_pop) AS min_ratio,\n",
    "    AVG(employment_to_pop) AS avg_ratio,\n",
    "    MAX(employment_to_pop) AS max_ratio\n",
    "FROM\n",
    "    employment_long\n",
    "WHERE\n",
    "    income_group IS NOT NULL\n",
    "GROUP BY\n",
    "    income_group\n",
    "ORDER BY\n",
    "    avg_ratio DESC;\n",
    "'''\n",
    "income_summary = pd.read_sql_query(query6, conn)"
   ]
  },
  {
   "cell_type": "code",
   "execution_count": 74,
   "metadata": {},
   "outputs": [],
   "source": [
    "# Step 10: Load the long format employment data\n",
    "employment_long = pd.read_sql_query(\"SELECT * FROM employment_long\", conn)\n"
   ]
  },
  {
   "cell_type": "code",
   "execution_count": 75,
   "metadata": {},
   "outputs": [
    {
     "name": "stdout",
     "output_type": "stream",
     "text": [
      "Database connection closed.\n"
     ]
    }
   ],
   "source": [
    "\n",
    "# Step 11: Close the database connection\n",
    "conn.close()\n",
    "print(\"Database connection closed.\")"
   ]
  },
  {
   "cell_type": "code",
   "execution_count": 78,
   "metadata": {},
   "outputs": [],
   "source": [
    "\n",
    "# --- Set the correct working directory ---\n",
    "os.chdir(\"/Users/danielnickas/Downloads/qtm350_finalproj\")\n",
    "\n",
    "# --- Create 'figures' folder if it doesn't exist ---\n",
    "os.makedirs(\"figures\", exist_ok=True)\n",
    "\n",
    "# --- Plotting Employment-to-Population Ratio over Time ---\n",
    "\n",
    "# Make sure 'year' column is integer\n",
    "employment_long['year'] = employment_long['year'].astype(int)\n",
    "\n",
    "# Group regional employment data\n",
    "avg_employment_by_region = employment_long.groupby(['year', 'region'])['employment_to_pop'].mean().reset_index()\n",
    "\n",
    "# Group world average separately\n",
    "world_avg_employment = employment_long[employment_long['region'] == 'World'].groupby('year')['employment_to_pop'].mean().reset_index()\n",
    "\n",
    "# --- Filter: Only years >= 1960 ---\n",
    "avg_employment_by_region = avg_employment_by_region[avg_employment_by_region['year'] >= 1960]\n",
    "world_avg_employment = world_avg_employment[world_avg_employment['year'] >= 1960]\n",
    "\n",
    "# --- Plot ---\n",
    "plt.figure(figsize=(14, 8))\n",
    "\n",
    "# Plot regional lines (excluding World)\n",
    "sns.lineplot(\n",
    "    data=avg_employment_by_region[avg_employment_by_region['region'] != 'World'],\n",
    "    x='year',\n",
    "    y='employment_to_pop',\n",
    "    hue='region'\n",
    ")\n",
    "\n",
    "# Plot World Average manually (black thick line)\n",
    "plt.plot(\n",
    "    world_avg_employment['year'],\n",
    "    world_avg_employment['employment_to_pop'],\n",
    "    color='black',\n",
    "    linewidth=3,\n",
    "    label='World Average'\n",
    ")\n",
    "\n",
    "# Titles, labels, ticks\n",
    "plt.title('Employment to Population Ratio Over Time by Region (1960–2024)')\n",
    "plt.xlabel('Year')\n",
    "plt.ylabel('Employment to Population Ratio (%)')\n",
    "plt.gca().xaxis.set_major_locator(MultipleLocator(10))\n",
    "plt.grid(True)\n",
    "\n",
    "# Legend (World included)\n",
    "plt.legend(title='Region', bbox_to_anchor=(1.05, 1), loc='upper left')\n",
    "\n",
    "# Layout and save\n",
    "plt.tight_layout()\n",
    "plt.savefig(\"figures/employment_to_pop_ratio_by_region.png\")\n"
   ]
  }
 ],
 "metadata": {
  "kernelspec": {
   "display_name": "base",
   "language": "python",
   "name": "python3"
  },
  "language_info": {
   "codemirror_mode": {
    "name": "ipython",
    "version": 3
   },
   "file_extension": ".py",
   "mimetype": "text/x-python",
   "name": "python",
   "nbconvert_exporter": "python",
   "pygments_lexer": "ipython3",
   "version": "3.11.5"
  }
 },
 "nbformat": 4,
 "nbformat_minor": 2
}
