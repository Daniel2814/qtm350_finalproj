{
 "cells": [
  {
   "cell_type": "markdown",
   "id": "eda24079",
   "metadata": {},
   "source": [
    "| Variable | Description | Name of Dataset |\n",
    "| --- | --- | --- |\n",
    "| country_name | The name of the country | gdp_growth_long |\n",
    "| country_code | A unique code for each country used as a key between tables | gdp_growth_long |\n",
    "| region | The region where the country is located | gdp_growth_long |\n",
    "| income group | The income group of the country (low income, lower middle income, upper middle income, high income) | gdp_growth_long |\n",
    "| year | The year of the data point | gdp_growth_long |\n",
    "| gdp_growth | The GDP growth rate of the country in that year | gdp_growth_long |\n"
   ]
  }
 ],
 "metadata": {
  "language_info": {
   "name": "python"
  }
 },
 "nbformat": 4,
 "nbformat_minor": 5
}
