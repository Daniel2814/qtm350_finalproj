{
 "cells": [
  {
   "cell_type": "markdown",
   "id": "eda24079",
   "metadata": {},
   "source": [
    "| Variable | Description |\n",
    "| --- | --- | --- |\n",
    "| country_name | The name of the country | \n",
    "| country_code | A unique code for each country used as a key between tables | \n",
    "| region | The region where the country is located | \n",
    "| income group | The income group of the country (low income, lower middle income, upper middle income, high income) |\n",
    "| year | The year of the data point |\n",
    "| gdp_growth | The GDP growth rate of the country in that year |\n",
    "| employment | employment to population ratio |"
   ]
  },
  {
   "cell_type": "markdown",
   "id": "3135d96e",
   "metadata": {},
   "source": []
  }
 ],
 "metadata": {
  "language_info": {
   "name": "python"
  }
 },
 "nbformat": 4,
 "nbformat_minor": 5
}
